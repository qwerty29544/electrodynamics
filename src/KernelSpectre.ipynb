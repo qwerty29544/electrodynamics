{
 "cells": [
  {
   "cell_type": "markdown",
   "id": "e198f306",
   "metadata": {},
   "source": [
    "# Исследование спектра интегрального оператора"
   ]
  },
  {
   "cell_type": "code",
   "execution_count": 2,
   "id": "910e0c19",
   "metadata": {},
   "outputs": [],
   "source": [
    "import numpy as np\n",
    "import pandas as pd\n",
    "import matplotlib.pyplot as plt\n",
    "import scipy as sp"
   ]
  },
  {
   "cell_type": "code",
   "execution_count": 3,
   "id": "ca58adf6",
   "metadata": {},
   "outputs": [],
   "source": [
    "def fast_bbtmv_mul(col_arr,\n",
    "                   row_arr,\n",
    "                   vec_arr,\n",
    "                   n, m, k):\n",
    "    \"\"\"\n",
    "\n",
    "    :param col_arr: массив размера (n,m,k,1) где на местах по первому измерению \n",
    "    стоят элементы первого столбца трехуровневой блочно-Тёплицевой матрицы оператора, \n",
    "    где матрица представляет собой массив из n*n блоков двухуровневой блочно-Тёплицевой матрицы, \n",
    "    которые в свою очередь являются массивом из m*m блоков Тёплицевой матрицы размера k*k\n",
    "    :param row_arr: массив размера (n,m,k,1) где на местах по первому измерению стоят элементы первой строки блочно-Тёплицевой матрицы оператора\n",
    "    :param vec_arr: массив размера (n,m,k,1) отвечающий за вектор элементов, на которые умножается блочно-Тёплицевая матрица\n",
    "    :param n: размер блоков первого уровня, определяемый дискретизацией по оси x_1\n",
    "    :param m: размер блоков первого уровня, определяемый дискретизацией по оси x_2\n",
    "    :param k: размер блоков первого уровня, определяемый дискретизацией по оси x_3\n",
    "    :return:\n",
    "    \"\"\"\n",
    "    \n",
    "    # Создание пустого цикрулянтного тензора, который будем заполнять с помощью отражений по измерениям \n",
    "    circulant_tensor = np.zeros((2 * n, 2 * m, 2 * k)) + 0.0j\n",
    "    x_arr = np.zeros((2 * n, 2 * m, 2 * k)) + 0.0j \n",
    "\n",
    "    circulant_tensor[:n, :m, :k] = row_arr[:n, :m, :k]\n",
    "    circulant_tensor[n + 1:2 * n, :m, :k] = col_arr[n:0:-1, :m, :k]\n",
    "    circulant_tensor[:n, m + 1:2 * m, :k] = col_arr[:n, m:0:-1, :k]\n",
    "    circulant_tensor[:n, :m, k + 1: 2 * k] = col_arr[:n, :m, k:0:-1]\n",
    "    circulant_tensor[n + 1:2 * n, m + 1:2 * m, :k] = col_arr[n:0:-1, m:0:-1, :k]\n",
    "    circulant_tensor[:n, m + 1:2 * m, k + 1:2 * k] = col_arr[:n, m:0:-1, k:0:-1]\n",
    "    circulant_tensor[n + 1:2 * n, :m, k + 1:2 * k] = col_arr[n:0:-1, :m, k:0:-1]\n",
    "    circulant_tensor[n + 1:2 * n, m + 1:2 * m, k + 1:2 * k] = col_arr[n:0:-1, m:0:-1, k:0:-1]\n",
    "\n",
    "    x_arr[:n, :m, :k] = vec_arr[:n, :m, :k]\n",
    "\n",
    "    circulant_tensor = np.fft.fftn(circulant_tensor) * np.fft.fftn(x_arr)\n",
    "    circulant_tensor = np.fft.ifft(circulant_tensor)\n",
    "\n",
    "    return circulant_tensor[:n, :m, :k]\n",
    "\n",
    "\n",
    "def prep_fftbbtensor(col_arr,\n",
    "                     row_arr,\n",
    "                     n, m, k):\n",
    "    \"\"\"\n",
    "\n",
    "    \"\"\"\n",
    "    circulant_tensor = np.zeros((2 * n, 2 * m, 2 * k)) + 0.0j\n",
    "    col_arr = col_arr.reshape((n, m, k))\n",
    "    row_arr = row_arr.reshape((n, m, k))\n",
    "    circulant_tensor[:n, :m, :k] = row_arr[:n, :m, :k]\n",
    "    circulant_tensor[n + 1:2 * n, :m, :k] = col_arr[n:0:-1, :m, :k]\n",
    "    circulant_tensor[:n, m + 1:2 * m, :k] = col_arr[:n, m:0:-1, :k]\n",
    "    circulant_tensor[:n, :m, k + 1: 2 * k] = col_arr[:n, :m, k:0:-1]\n",
    "    circulant_tensor[n + 1:2 * n, m + 1:2 * m, :k] = col_arr[n:0:-1, m:0:-1, :k]\n",
    "    circulant_tensor[:n, m + 1:2 * m, k + 1:2 * k] = col_arr[:n, m:0:-1, k:0:-1]\n",
    "    circulant_tensor[n + 1:2 * n, :m, k + 1:2 * k] = col_arr[n:0:-1, :m, k:0:-1]\n",
    "    circulant_tensor[n + 1:2 * n, m + 1:2 * m, k + 1:2 * k] = col_arr[n:0:-1, m:0:-1, k:0:-1]\n",
    "    circulant_tensor = np.fft.fftn(circulant_tensor)\n",
    "    return circulant_tensor\n",
    "\n",
    "\n",
    "def prep_fbbtmv(prep_fft_arr,\n",
    "                vec_arr,\n",
    "                n, m, k):\n",
    "    \"\"\"\n",
    "\n",
    "    \"\"\"\n",
    "    x_arr = np.zeros((2 * n, 2 * m, 2 * k)) + 0.0j\n",
    "    x_arr[:n, :m, :k] = vec_arr[:n, :m, :k]\n",
    "    prep_fft_arr = np.fft.ifftn(prep_fft_arr * np.fft.fftn(x_arr))\n",
    "    return prep_fft_arr[:n, :m, :k]"
   ]
  },
  {
   "cell_type": "markdown",
   "id": "0f094fc3",
   "metadata": {},
   "source": [
    "# Функция трехмерной структурированной сетки центров ячеек"
   ]
  },
  {
   "cell_type": "code",
   "execution_count": 4,
   "id": "301e9eeb",
   "metadata": {},
   "outputs": [],
   "source": [
    "def make_grid(N, L, center, **kwargs):\n",
    "    \"\"\"\n",
    "    \n",
    "    \"\"\"\n",
    "    \n",
    "    # Границы сетки\n",
    "    x = np.linspace(-L[0]/2 - center[0], L[0]/2 - center[0], N[0] + 1)\n",
    "    y = np.linspace(-L[1]/2 - center[1], L[1]/2 - center[1], N[1] + 1)\n",
    "    z = np.linspace(-L[2]/2 - center[2], L[2]/2 - center[2], N[2] + 1)\n",
    "    \n",
    "    # Объем ячейки\n",
    "    h_x = x[1] - x[0]\n",
    "    h_y = y[1] - y[0]\n",
    "    h_z = z[1] - z[0]\n",
    "    volume = h_x * h_y * h_z\n",
    "    \n",
    "    # Середины - точки коллокации\n",
    "    x = (x[1:] + x[:-1])/2\n",
    "    y = (y[1:] + y[:-1])/2\n",
    "    z = (z[1:] + z[:-1])/2\n",
    "    \n",
    "    # Сетка - трехмерный тензор, вытянутый в строку размером n*m*k\n",
    "    grid = np.array(np.meshgrid(x, y, z, indexing='xy')).T.reshape(-1, 3)[:, [1, 0, 2]]\n",
    "    \n",
    "    return grid, volume"
   ]
  },
  {
   "cell_type": "markdown",
   "id": "7e952dd0",
   "metadata": {},
   "source": [
    "# Определение диэлектрической проницаемости среды"
   ]
  },
  {
   "cell_type": "code",
   "execution_count": 5,
   "id": "f9cd5303",
   "metadata": {},
   "outputs": [],
   "source": [
    "def step_dielectric_3d(grid,\n",
    "                       eps_real,\n",
    "                       eps_imag,\n",
    "                       x1_bounds,\n",
    "                       x2_bounds,\n",
    "                       x3_bounds):\n",
    "    \"\"\"\n",
    "    grid - Тензор (n_1, n_2, n_3, 3) для каждой точки пространства\n",
    "    eps_real\n",
    "    \"\"\"\n",
    "    if eps_real is None:\n",
    "        eps_real = [[1.0, 0.0, 0.0], [0.0, 1.0, 0.0], [0.0, 0.0, 1.0]]\n",
    "    if eps_imag is None:\n",
    "        eps_imag = [[0.0, 0.0, 0.0], [0.0, 0.0, 0.0], [0.0, 0.0, 0.0]]\n",
    "    if x1_bounds is None:\n",
    "        x1_bounds = [-1.0, 0.5]\n",
    "    if x2_bounds is None:\n",
    "        x2_bounds = [-1.0, 1.0]\n",
    "    if x3_bounds is None:\n",
    "        x3_bounds = [-1.0, 1.0]\n",
    "\n",
    "    eps = np.zeros((grid.shape[0], 3, 3)) + 0.0j\n",
    "    indexes = ((grid[:, 0] >= x1_bounds[0]) * (grid[:, 0] <= x1_bounds[1]) *\n",
    "               (grid[:, 1] >= x2_bounds[0]) * (grid[:, 1] <= x2_bounds[1]) *\n",
    "               (grid[:, 2] >= x3_bounds[0]) * (grid[:, 2] <= x3_bounds[1]))\n",
    "    eps[indexes] = np.array(eps_real) + 1j * np.array(eps_imag)\n",
    "    return eps, indexes\n",
    "\n",
    "\n",
    "def ellipsis_dielectric_3d(grid,\n",
    "                           eps_real,\n",
    "                           eps_imag,\n",
    "                           center,\n",
    "                           radius):\n",
    "    if eps_real is None:\n",
    "        eps_real = [[1.0, 0.0, 0.0], [0.0, 1.0, 0.0], [0.0, 0.0, 1.0]]\n",
    "    if eps_imag is None:\n",
    "        eps_imag = [[0.0, 0.0, 0.0], [0.0, 0.0, 0.0], [0.0, 0.0, 0.0]]\n",
    "    if center is None:\n",
    "        center = [0.0, 0.0, 0.0]\n",
    "    if radius is None:\n",
    "        radius = [1.0, 1.0, 1.0]\n",
    "    eps = np.zeros((grid.shape[0], 3, 3)) + 0j\n",
    "    indexes = (\n",
    "        ((grid[:, 0] - center[0]) ** 2) / (radius[0] ** 2) +\n",
    "        ((grid[:, 1] - center[1]) ** 2) / (radius[1] ** 2) +\n",
    "        ((grid[:, 2] - center[2]) ** 2) / (radius[2] ** 2)\n",
    "    ) <= 1\n",
    "    eps[indexes] = np.array(eps_real) + 1j * np.array(eps_imag)\n",
    "    return eps, indexes\n",
    "\n",
    "\n",
    "def apply_dielectric_3d(grid,\n",
    "                        eps_vec=None, **kwargs):\n",
    "    if eps_vec is None:\n",
    "        eps_vec = [\n",
    "            {\n",
    "                \"type\": \"step\",\n",
    "                \"eps_real\": [[1.0, 0.0, 0.0],\n",
    "                             [0.0, 1.0, 0.0],\n",
    "                             [0.0, 0.0, 1.0]],\n",
    "                \"eps_imag\": [[1.0, 0.0, 0.0],\n",
    "                             [0.0, 1.0, 0.0],\n",
    "                             [0.0, 0.0, 1.0]],\n",
    "                \"x1_bounds\": [-1.0, 0.0],\n",
    "                \"x2_bounds\": [-1.0, 1.0],\n",
    "                \"x3_bounds\": [-1.0, 1.0]\n",
    "            },\n",
    "            {\n",
    "                \"type\": \"ellipsis\",\n",
    "                \"eps_real\": [[1.0, 0.0, 0.0],\n",
    "                             [0.0, 1.0, 0.0],\n",
    "                             [0.0, 0.0, 1.0]],\n",
    "                \"eps_imag\": [[1.0, 0.0, 0.0],\n",
    "                             [0.0, 1.0, 0.0],\n",
    "                             [0.0, 0.0, 1.0]],\n",
    "                \"center\": [0.0, 0.0, 0.0],\n",
    "                \"radius\": [1.0, 1.0, 1.0]\n",
    "            }\n",
    "        ]\n",
    "\n",
    "    eps = np.zeros((grid.shape[0], 3, 3)) + 0j\n",
    "    indexes = np.zeros(grid.shape[0], dtype=bool)\n",
    "    for num, element in enumerate(eps_vec):\n",
    "        if element.get(\"type\") == \"step\":\n",
    "            eps_d, indexes_d = step_dielectric_3d(grid=grid,\n",
    "                                                  eps_real=element.get('eps_real'),\n",
    "                                                  eps_imag=element.get('eps_imag'),\n",
    "                                                  x1_bounds=element.get('x1_bounds'),\n",
    "                                                  x2_bounds=element.get('x2_bounds'),\n",
    "                                                  x3_bounds=element.get('x3_bounds'))\n",
    "        elif element.get(\"type\") == \"ellipsis\":\n",
    "            eps_d, indexes_d = ellipsis_dielectric_3d(grid=grid,\n",
    "                                                      eps_real=element.get('eps_real'),\n",
    "                                                      eps_imag=element.get('eps_imag'),\n",
    "                                                      center=element.get('center'),\n",
    "                                                      radius=element.get('radius'))\n",
    "        else:\n",
    "            continue\n",
    "        indexes += indexes_d\n",
    "        eps += eps_d\n",
    "    return eps, indexes"
   ]
  },
  {
   "cell_type": "markdown",
   "id": "3d07095c",
   "metadata": {},
   "source": [
    "# Определение ядра интегрального оператора\n",
    "\n",
    "$$\n",
    "    B_{nm}(p-q) = \\int_{\\Pi_q} G(R) \\left[(\\frac{3}{R^2} - \\frac{3ik_0}{R} - k_0^2)\\alpha_n \\alpha_m + (k_0^2 + \\frac{ik_0}{R}-\\frac{1}{R^2})\\delta_{nm} \\right] dy, p\\ne q\n",
    "$$\n",
    "\n",
    "$$\n",
    "\\alpha_n = \\frac{x_n(p)-y_n}{|x(p)-y|}, n=1,2,3, \\quad \\eta_{mk} = \\varepsilon(y(q)) - \\delta_{mk}, \\quad R = \\sqrt{\\sum_{i=1}^{3} {(y_i - x_i(p))^2}}, \\quad B_{nm}(0,0,0) = (-1/3)I\n",
    "$$\n"
   ]
  },
  {
   "cell_type": "code",
   "execution_count": 6,
   "id": "412f10e4",
   "metadata": {},
   "outputs": [],
   "source": [
    "def kernel(x, k=1, **kwargs):\n",
    "    return np.exp(1j * k * x)/(4 * np.pi * x)\n",
    "\n",
    "def init_operator(grid, volume, discret, distance, k, eps, kernel):\n",
    "    dist_coef_1 = np.zeros(np.prod(discret)) + 0.0j\n",
    "    dist_coef_1[1:] = (3 / (distance[1:] ** 2)) - ((3j * k) / distance[1:]) - (k ** 2)\n",
    "    alpha = np.zeros((np.prod(discret), 3))\n",
    "    alpha[1:, :] = (grid[0, :] - grid[1:, :]) / distance[1:].reshape(-1, 1)\n",
    "    indexing_matrix = np.einsum('...j,...i->...ji', alpha, alpha)\n",
    "    part_1 = indexing_matrix * dist_coef_1.reshape(-1, 1, 1)\n",
    "\n",
    "    dist_coef_2 = np.zeros(np.prod(discret)) + 0.0j\n",
    "    dist_coef_2[1:] = (k ** 2) + ((1j * k) / distance[1:]) - (1 / (distance[1:] ** 2))\n",
    "    part_2 = np.eye(3).reshape(-1, 3, 3) * dist_coef_2.reshape(-1, 1, 1)\n",
    "\n",
    "    gr = np.zeros(np.prod(discret)) + 0.0j\n",
    "    gr[1:] = kernel(distance[1:], k)\n",
    "    result = gr.reshape(-1, 1, 1) * (part_1 + part_2) * volume.reshape(-1, 1)\n",
    "    eps = eps.reshape(-1, 3, 3) - (np.eye(3).reshape(-1, 3, 3))\n",
    "    result[0, :, :] = -(1 / 3) * np.eye(3)\n",
    "    return result, gr, eps"
   ]
  },
  {
   "cell_type": "markdown",
   "id": "89a2e873",
   "metadata": {},
   "source": [
    "# Скрипт решения задачи"
   ]
  },
  {
   "cell_type": "code",
   "execution_count": 7,
   "id": "37080b38",
   "metadata": {},
   "outputs": [],
   "source": [
    "# Конфиг задачи\n",
    "problem_config = {\n",
    "    'N': [10, 10, 10],\n",
    "    'L': [1.0, 1.0, 1.0],\n",
    "    'center': [0.0, 0.0, 0.0],\n",
    "    'k': 7.2,\n",
    "    'orient': [0.0, 1.0, 0.0],\n",
    "    'amplitude': [1.0, 0.0, 0.0],\n",
    "    'sign': 1.0,\n",
    "    'eps_vec': [\n",
    "        {\n",
    "                \"type\": \"step\",\n",
    "                \"eps_real\": [[5.0, 0.0, 0.0],\n",
    "                             [0.0, 3.0, 0.0],\n",
    "                             [0.0, 0.0, 2.0]],\n",
    "                \"eps_imag\": [[0.0, 0.0, 0.0],\n",
    "                             [0.0, 0.0, 0.0],\n",
    "                             [0.0, 0.0, 0.0]],\n",
    "                \"x1_bounds\": [-1.0, 1.0],\n",
    "                \"x2_bounds\": [-1.0, 1.0],\n",
    "                \"x3_bounds\": [-1.0, 1.0]\n",
    "            },\n",
    "            {\n",
    "                \"type\": \"ellipsis\",\n",
    "                \"eps_real\": [[0.0, 0.0, 0.0],\n",
    "                             [0.0, 0.0, 0.0],\n",
    "                             [0.0, 0.0, 0.0]],\n",
    "                \"eps_imag\": [[0.0, 0.0, 0.0],\n",
    "                             [0.0, 0.0, 0.0],\n",
    "                             [0.0, 0.0, 0.0]],\n",
    "                \"center\": [0.0, 0.0, 0.0],\n",
    "                \"radius\": [1.0, 1.0, 1.0]\n",
    "            }\n",
    "    ]\n",
    "}\n",
    "\n",
    "n_1 = problem_config.get('N')[0]\n",
    "n_2 = problem_config.get('N')[1]\n",
    "n_3 = problem_config.get('N')[2]\n",
    "k_wave = problem_config.get('k')\n",
    "\n",
    "grid,volume = make_grid(**problem_config)\n",
    "eta, ind = apply_dielectric_3d(grid, **problem_config)\n",
    "dists = np.linalg.norm(grid[0, :] - grid[:,:], 2, axis=1)\n",
    "G, gr, eps = init_operator(grid, volume, problem_config.get('N'), dists, problem_config.get('k'), eta, kernel)"
   ]
  },
  {
   "cell_type": "code",
   "execution_count": 8,
   "id": "c1e1ebc4",
   "metadata": {},
   "outputs": [
    {
     "data": {
      "text/plain": [
       "(1000, 3, 3)"
      ]
     },
     "execution_count": 8,
     "metadata": {},
     "output_type": "execute_result"
    }
   ],
   "source": [
    "G.shape"
   ]
  },
  {
   "cell_type": "code",
   "execution_count": 9,
   "id": "653ca7ed",
   "metadata": {},
   "outputs": [],
   "source": [
    "def make_block_toeplitz_matrix(row, col):\n",
    "    result = np.zeros((col.shape[0], row.shape[0], 3, 3)) + 0.0j\n",
    "    for i in np.arange(result.shape[0]-1):\n",
    "        for j in np.arange(i, result.shape[1]):\n",
    "            result[i, j] = row[j-i]\n",
    "            result[j, i] = col[j-i]\n",
    "    return result\n",
    "\n",
    "# Предположим, что arr имеет форму (n, n, m, m)\n",
    "def block_matrix(arr):\n",
    "    \"\"\"\n",
    "    Превращает 4D-массив arr размером (n, n, m, m)\n",
    "    в блочную матрицу размером (n*m, n*m).\n",
    "    \"\"\"\n",
    "    # Переставляем оси:\n",
    "    #   из (n, n, m, m) → (n, m, n, m)\n",
    "    # Затем схлопываем в (n*m, n*m).\n",
    "    n, _, m, _ = arr.shape\n",
    "    return arr.transpose(0, 2, 1, 3).reshape(n*m, n*m)"
   ]
  },
  {
   "cell_type": "code",
   "execution_count": 10,
   "id": "dbae6703",
   "metadata": {},
   "outputs": [
    {
     "data": {
      "text/plain": [
       "(1000, 3, 3)"
      ]
     },
     "execution_count": 10,
     "metadata": {},
     "output_type": "execute_result"
    }
   ],
   "source": [
    "eta.shape"
   ]
  },
  {
   "cell_type": "code",
   "execution_count": 11,
   "id": "f6136784",
   "metadata": {},
   "outputs": [],
   "source": [
    "Matrix_G = make_block_toeplitz_matrix(G, G)"
   ]
  },
  {
   "cell_type": "code",
   "execution_count": 12,
   "id": "aa6592e6",
   "metadata": {},
   "outputs": [],
   "source": [
    "Matrix_G = (Matrix_G * eta.reshape(1, -1, 3, 3))"
   ]
  },
  {
   "cell_type": "code",
   "execution_count": 13,
   "id": "c2e0e567",
   "metadata": {},
   "outputs": [
    {
     "data": {
      "text/plain": [
       "array([[-1.66666667+0.j, -0.        +0.j, -0.        +0.j],\n",
       "       [-0.        +0.j, -1.        +0.j, -0.        +0.j],\n",
       "       [-0.        +0.j, -0.        +0.j, -0.66666667+0.j]])"
      ]
     },
     "execution_count": 13,
     "metadata": {},
     "output_type": "execute_result"
    }
   ],
   "source": [
    "Matrix_G[2,2]"
   ]
  },
  {
   "cell_type": "code",
   "execution_count": 14,
   "id": "e7c8dc9d",
   "metadata": {},
   "outputs": [],
   "source": [
    "Matrix_G = block_matrix(Matrix_G) \n",
    "Matrix_G = np.eye(Matrix_G.shape[0]) - Matrix_G"
   ]
  },
  {
   "cell_type": "code",
   "execution_count": 15,
   "id": "d5b800c1",
   "metadata": {},
   "outputs": [],
   "source": [
    "eigvalues = np.linalg.eigvals(Matrix_G)"
   ]
  },
  {
   "cell_type": "code",
   "execution_count": 16,
   "id": "9997b637",
   "metadata": {},
   "outputs": [
    {
     "data": {
      "text/plain": [
       "array([-0.09263123-5.4866749j , -2.63776865-2.81748929j,\n",
       "        0.65086984-5.06247393j,  6.87392135+0.05792459j,\n",
       "        6.67711371-0.37576214j,  6.71335216+0.06160888j,\n",
       "        6.71281785+0.06152567j, -2.67040735-0.90551503j,\n",
       "        6.50045797-0.3860084j ,  6.49927007-0.38540253j])"
      ]
     },
     "execution_count": 16,
     "metadata": {},
     "output_type": "execute_result"
    }
   ],
   "source": [
    "eigvalues[:10]"
   ]
  },
  {
   "cell_type": "code",
   "execution_count": 17,
   "id": "e5122cf7",
   "metadata": {},
   "outputs": [
    {
     "data": {
      "text/plain": [
       "array([1.89036135+0.06644169j, 1.88994357+0.06638989j,\n",
       "       1.87636033+0.0683873j , 1.87666363+0.06893649j,\n",
       "       1.95273291+0.07056915j, 1.9528548 +0.07062406j,\n",
       "       1.95299555+0.07182612j, 1.95295198+0.07180646j,\n",
       "       1.87656732+0.06880459j, 1.87643675+0.06839523j])"
      ]
     },
     "execution_count": 17,
     "metadata": {},
     "output_type": "execute_result"
    }
   ],
   "source": [
    "eigvalues[-10:]"
   ]
  },
  {
   "cell_type": "code",
   "execution_count": 18,
   "id": "f3dd4708",
   "metadata": {},
   "outputs": [
    {
     "data": {
      "text/plain": [
       "0.05482101591104004"
      ]
     },
     "execution_count": 18,
     "metadata": {},
     "output_type": "execute_result"
    }
   ],
   "source": [
    "np.min(np.abs(eigvalues))"
   ]
  },
  {
   "cell_type": "code",
   "execution_count": 19,
   "id": "0ac56492",
   "metadata": {},
   "outputs": [
    {
     "data": {
      "text/plain": [
       "-2.6704073494816702"
      ]
     },
     "execution_count": 19,
     "metadata": {},
     "output_type": "execute_result"
    }
   ],
   "source": [
    "np.min(np.real(eigvalues))"
   ]
  },
  {
   "cell_type": "code",
   "execution_count": 20,
   "id": "df0d981c",
   "metadata": {},
   "outputs": [
    {
     "data": {
      "text/plain": [
       "-5.486674903981996"
      ]
     },
     "execution_count": 20,
     "metadata": {},
     "output_type": "execute_result"
    }
   ],
   "source": [
    "np.min(np.imag(eigvalues))"
   ]
  },
  {
   "cell_type": "code",
   "execution_count": 21,
   "id": "1e807adc",
   "metadata": {},
   "outputs": [
    {
     "data": {
      "text/plain": [
       "<matplotlib.collections.PathCollection at 0x22ce3b950c0>"
      ]
     },
     "execution_count": 21,
     "metadata": {},
     "output_type": "execute_result"
    },
    {
     "data": {
      "image/png": "[encoded data removed]",
      "text/plain": [
       "<Figure size 640x480 with 1 Axes>"
      ]
     },
     "metadata": {},
     "output_type": "display_data"
    }
   ],
   "source": [
    "plt.scatter(eigvalues.real, eigvalues.imag)"
   ]
  },
  {
   "cell_type": "code",
   "execution_count": 22,
   "id": "1c722625",
   "metadata": {},
   "outputs": [],
   "source": [
    "points = np.random.rand(100)"
   ]
  },
  {
   "cell_type": "code",
   "execution_count": 31,
   "id": "045a12ad",
   "metadata": {},
   "outputs": [
    {
     "data": {
      "text/plain": [
       "3.0"
      ]
     },
     "execution_count": 31,
     "metadata": {},
     "output_type": "execute_result"
    }
   ],
   "source": [
    "p1 = np.array([1,1,1])\n",
    "p2 = np.array([2,2,2])\n",
    "np.linalg.norm(p1-p2, 1)"
   ]
  },
  {
   "cell_type": "code",
   "execution_count": null,
   "id": "f31f864f",
   "metadata": {},
   "outputs": [],
   "source": []
  }
 ],
 "metadata": {
  "kernelspec": {
   "display_name": "Python 3 (ipykernel)",
   "language": "python",
   "name": "python3"
  },
  "language_info": {
   "codemirror_mode": {
    "name": "ipython",
    "version": 3
   },
   "file_extension": ".py",
   "mimetype": "text/x-python",
   "name": "python",
   "nbconvert_exporter": "python",
   "pygments_lexer": "ipython3",
   "version": "3.10.9"
  }
 },
 "nbformat": 4,
 "nbformat_minor": 5
}
